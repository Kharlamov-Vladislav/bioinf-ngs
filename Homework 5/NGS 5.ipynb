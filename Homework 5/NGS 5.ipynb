{
 "cells": [
  {
   "cell_type": "code",
   "execution_count": 328,
   "metadata": {},
   "outputs": [],
   "source": [
    "from Bio.Seq import Seq\n",
    "from Bio import SeqIO\n",
    "import numpy as np"
   ]
  },
  {
   "cell_type": "code",
   "execution_count": 329,
   "metadata": {},
   "outputs": [],
   "source": [
    "data = Bio.SeqIO.parse('s_6.first10000.fastq', 'fastq')\n",
    "reads = [read.seq for read in data]"
   ]
  },
  {
   "cell_type": "code",
   "execution_count": 330,
   "metadata": {},
   "outputs": [],
   "source": [
    "class node:\n",
    "    def __init__(self, k_mer, coverage=None, id_node=None):\n",
    "        self.k_mer = k_mer\n",
    "        self.coverage = coverage\n",
    "        self.edges_in = {}\n",
    "        self.edges_out = {}\n",
    "        self.id = id_node\n",
    "        self.times_delete = 0\n",
    "\n",
    "class edge:\n",
    "    def __init__(self, k_mer, coverage=None, node_in=None, node_out=None):\n",
    "        self.k_mer = k_mer\n",
    "        self.coverage = coverage\n",
    "        self.node_in = node_in\n",
    "        self.node_out = node_out\n",
    "\n",
    "class graph:\n",
    "    def __init__(self, reads, k=3):\n",
    "        self.array_reads = reads\n",
    "        self.node_kmers = self.k_mers(reads, k)\n",
    "        self.edges_kmers = self.k_mers(reads, k + 1)\n",
    "        self.nodes = {} # dictionary k_mer -> class node\n",
    "        self.k = k\n",
    "    \n",
    "    def create(self):\n",
    "        for index, kmer in enumerate(self.node_kmers):\n",
    "            self.add_node(kmer, self.node_kmers[kmer], index)\n",
    "            \n",
    "        for kmer in self.edges_kmers:\n",
    "            self.add_edge(kmer, self.edges_kmers[kmer])\n",
    "    \n",
    "    def add_node(self, k_mer, coverage, id_node):\n",
    "        #reverse_complement_k_mer = k_mer.reverse_complement()\n",
    "        self.nodes[k_mer] = node(k_mer, coverage, id_node)\n",
    "        #self.nodes[reverse_complement_k_mer] = node(reverse_complement_k_mer, coverage)\n",
    "        \n",
    "    def add_edge(self, k_mer, coverage):\n",
    "        node_1, node_2 = k_mer[:self.k], k_mer[-self.k:] # node_1 -> node_2\n",
    "        self.nodes[node_1].edges_out[k_mer] = edge(k_mer, coverage, self.nodes[node_1], self.nodes[node_2])\n",
    "        self.nodes[node_2].edges_in[k_mer] = edge(k_mer, coverage, self.nodes[node_1], self.nodes[node_2])\n",
    "        \n",
    "    def delete_node(self, k_mer):\n",
    "        key_1, key_2 = list(brujne.nodes[k_mer].edges_in.keys())[0], list(brujne.nodes[k_mer].edges_out.keys())[0]\n",
    "        # Step 1\n",
    "        A, C, E = brujne.nodes[k_mer].edges_in[key_1].node_in, brujne.nodes[k_mer], brujne.nodes[k_mer].edges_out[key_2].node_out\n",
    "        # step 2\n",
    "#         print(A.k_mer, C.k_mer, E.k_mer)\n",
    "        new_key = key_1 + key_2[self.k:] #new k_mer\n",
    "        new_cov = (len(A.edges_out[key_1].k_mer) - self.k) * A.edges_out[key_1].coverage\n",
    "        new_cov += (len(E.edges_in[key_2].k_mer) - self.k) * E.edges_in[key_2].coverage #new coverage\n",
    "        new_cov = new_cov / (len(A.edges_out[key_1].k_mer) + len(E.edges_in[key_2].k_mer) - self.k * 2)\n",
    "        A.edges_out.pop(key_1) #delete edge B\n",
    "        C.edges_in.pop(key_1)\n",
    "        E.edges_in.pop(key_2) #delete edge D\n",
    "        C.edges_out.pop(key_2)\n",
    "        C = None\n",
    "        #step 3 add new edge\n",
    "#         print(key_1, key_2)\n",
    "#         print(new_key)\n",
    "        self.add_edge(new_key, new_cov)\n",
    "    \n",
    "    def k_mers(self, reads, k):\n",
    "        k_mers_dict = {}\n",
    "        for read in reads:\n",
    "            for index in range(len(read) - k + 1):\n",
    "                sequance_kmer = read[index:index + k]\n",
    "                reverse_sequance_kmer = sequance_kmer.reverse_complement()\n",
    "                \n",
    "                if sequance_kmer in k_mers_dict:\n",
    "                    k_mers_dict[sequance_kmer] += 1\n",
    "                else:\n",
    "                    k_mers_dict[sequance_kmer] = 1\n",
    "                \n",
    "                if reverse_sequance_kmer in k_mers_dict:\n",
    "                    k_mers_dict[reverse_sequance_kmer] += 1\n",
    "                else:\n",
    "                    k_mers_dict[reverse_sequance_kmer] = 1\n",
    "        return k_mers_dict\n",
    "    \n",
    "    def compression(self):\n",
    "        for nodex in brujne.nodes:\n",
    "            if len(brujne.nodes[nodex].edges_out) == 1 and len(brujne.nodes[nodex].edges_in) == 1:\n",
    "                brujne.delete_node(nodex)\n",
    "                \n",
    "    def print_graph(self):\n",
    "        for nodex in brujne.nodes:\n",
    "            for edgex in brujne.nodes[nodex].edges_out:\n",
    "                cov, len_kmer = brujne.nodes[nodex].edges_out[edgex].coverage, len(brujne.nodes[nodex].edges_out[edgex].k_mer)\n",
    "                print(str(brujne.nodes[nodex].id), '->' , str(brujne.nodes[nodex].edges_out[edgex].node_out.id) + \n",
    "                      f'[label=\"cov={int(cov)}, len={len_kmer-self.k}\"]'';')\n",
    "    \n",
    "    def correction(self):\n",
    "        coverages = []\n",
    "        for nodex in brujne.nodes:\n",
    "            for edgex in brujne.nodes[nodex].edges_in:\n",
    "                coverages.append(brujne.nodes[nodex].edges_in[edgex].coverage)\n",
    "            for edgex in brujne.nodes[nodex].edges_out:\n",
    "                coverages.append(brujne.nodes[nodex].edges_out[edgex].coverage)\n",
    "        COVERAGE_BOUND = np.percentile(coverages, 25)\n",
    "        LENGHT_BOUND = 2 * self.k\n",
    "\n",
    "        for nodex in brujne.nodes:\n",
    "            for edgex in brujne.nodes[nodex].edges_in:\n",
    "                if len(brujne.nodes[nodex].edges_out) == 0 and len(brujne.nodes[nodex].edges_in) == 1:\n",
    "                    if len(brujne.nodes[nodex].edges_in[edgex].k_mer) < LENGHT_BOUND or brujne.nodes[nodex].edges_in[edgex].coverage < COVERAGE_BOUND:\n",
    "                        A = brujne.nodes[nodex].edges_in[edgex].node_in\n",
    "                        A.edges_out.pop(edgex)\n",
    "                        brujne.nodes[nodex].edges_in = {}\n",
    "\n",
    "            for edgex in brujne.nodes[nodex].edges_out:\n",
    "                if len(brujne.nodes[nodex].edges_out) == 1 and len(brujne.nodes[nodex].edges_in) == 0:\n",
    "                    if len(brujne.nodes[nodex].edges_out[edgex].k_mer) < LENGHT_BOUND or brujne.nodes[nodex].edges_out[edgex].coverage < COVERAGE_BOUND:\n",
    "                        C = brujne.nodes[nodex].edges_out[edgex].node_out\n",
    "                        C.edges_in.pop(edgex)\n",
    "                        brujne.nodes[nodex].edges_out = {}\n",
    "    def write_edges(self, file_name):\n",
    "        with open(file_name, \"w\") as output_handle:\n",
    "            for index, nodex in enumerate(brujne.nodes):\n",
    "                for index_2, edgex in enumerate(brujne.nodes[nodex].edges_out):\n",
    "                    output_handle.writelines('>' + str(index) + '_' +  str(index_2) + '\\n' + edgex + '\\n')\n",
    "    \n",
    "    def write_graph(self, file_name):\n",
    "        with open(file_name, \"w\") as output_handle:\n",
    "            output_handle.writelines('graph {')\n",
    "            for nodex in brujne.nodes:\n",
    "                for edgex in brujne.nodes[nodex].edges_out:\n",
    "                    cov, len_kmer = brujne.nodes[nodex].edges_out[edgex].coverage, len(brujne.nodes[nodex].edges_out[edgex].k_mer)\n",
    "                    tmp_edge = str(brujne.nodes[nodex].id), ' -> ' , str(brujne.nodes[nodex].edges_out[edgex].node_out.id) + \\\n",
    "                          f'[label=\"cov={int(cov)}, len={len_kmer-self.k}\"]'';\\n'\n",
    "                    output_handle.writelines(tmp_edge)\n",
    "            output_handle.writelines('}')\n",
    "#     def _find_neighbor(self, k_mer):\n",
    "#         patter_search_in, patter_search_out = k_mer[1:], k_mer[:-1]\n",
    "#         neigbors_in, neigbors_out = [], []\n",
    "        \n",
    "#         for nucleotide in ['A', 'C', 'T', 'G']:\n",
    "#             if (nucleotide + patter_search_in) in self.nodes:\n",
    "#                 neigbors_in.append(nucleotide + patter_search_in)\n",
    "#             if (patter_search_out + nucleotide) in self.nodes:\n",
    "#                 neigbors_out.append(patter_search_out + nucleotide)\n",
    "#         return (neigbors_in, neigbors_out)"
   ]
  },
  {
   "cell_type": "code",
   "execution_count": 331,
   "metadata": {},
   "outputs": [
    {
     "name": "stdout",
     "output_type": "stream",
     "text": [
      "Wall time: 6min 55s\n"
     ]
    }
   ],
   "source": [
    "%%time\n",
    "brujne = graph(reads, k=55)\n",
    "brujne.create()\n",
    "brujne.compression()\n",
    "brujne.write_edges('edges_without_correction_10000.fasta')\n",
    "brujne.write_graph('graph_without_correction_10000.dot')\n",
    "brujne.correction()\n",
    "brujne.compression()\n",
    "brujne.write_edges('edges_correction_10000.fasta')\n",
    "brujne.write_graph('graph_correction_10000.dot')\n",
    "#brujne.print_graph()"
   ]
  },
  {
   "cell_type": "code",
   "execution_count": 327,
   "metadata": {},
   "outputs": [
    {
     "name": "stdout",
     "output_type": "stream",
     "text": [
      "1758 -> 1866[label=\"cov=155, len=838\"];\n",
      "1867 -> 1759[label=\"cov=155, len=838\"];\n",
      "1868 -> 1882[label=\"cov=28, len=82\"];\n",
      "1883 -> 1869[label=\"cov=28, len=82\"];\n"
     ]
    },
    {
     "name": "stderr",
     "output_type": "stream",
     "text": [
      "c:\\users\\notebook-kharlamov\\appdata\\local\\programs\\python\\python37-32\\lib\\site-packages\\Bio\\Seq.py:182: BiopythonWarning: Biopython Seq objects now use string comparison. Older versions of Biopython used object comparison. During this transition, please use hash(id(my_seq)) or my_dict[id(my_seq)] if you want the old behaviour, or use hash(str(my_seq)) or my_dict[str(my_seq)] for the new string hashing behaviour.\n",
      "  BiopythonWarning,\n"
     ]
    }
   ],
   "source": [
    "brujne.print_graph()"
   ]
  },
  {
   "cell_type": "code",
   "execution_count": null,
   "metadata": {},
   "outputs": [],
   "source": []
  }
 ],
 "metadata": {
  "kernelspec": {
   "display_name": "Python 3",
   "language": "python",
   "name": "python3"
  },
  "language_info": {
   "codemirror_mode": {
    "name": "ipython",
    "version": 3
   },
   "file_extension": ".py",
   "mimetype": "text/x-python",
   "name": "python",
   "nbconvert_exporter": "python",
   "pygments_lexer": "ipython3",
   "version": "3.7.4"
  }
 },
 "nbformat": 4,
 "nbformat_minor": 2
}
